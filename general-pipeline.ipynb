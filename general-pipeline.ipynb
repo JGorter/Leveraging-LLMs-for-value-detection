{
 "cells": [
  {
   "cell_type": "markdown",
   "metadata": {},
   "source": [
    "# General pipeline for generating results "
   ]
  },
  {
   "cell_type": "code",
   "execution_count": 1,
   "metadata": {},
   "outputs": [],
   "source": [
    "import ollama\n",
    "import pandas as pd\n",
    "import numpy as np\n",
    "import constants    # custom module\n",
    "import prompts      # custom module\n",
    "import ast\n",
    "import warnings\n",
    "import re\n",
    "from pprint import pprint\n",
    "from sklearn.preprocessing import MultiLabelBinarizer\n",
    "from sklearn.metrics import f1_score, recall_score, precision_score, multilabel_confusion_matrix\n",
    "from statsmodels.stats import inter_rater as irr\n",
    "from prettytable import PrettyTable\n",
    "import matplotlib.pyplot as plt\n",
    "import matplotlib.patches as mpatches\n",
    "from tqdm import tqdm\n",
    "\n",
    "df = pd.read_csv('data/balanced_data.csv', delimiter=\";\")"
   ]
  },
  {
   "cell_type": "markdown",
   "metadata": {},
   "source": [
    "## Code"
   ]
  },
  {
   "cell_type": "markdown",
   "metadata": {},
   "source": [
    "### Basic LLM prompt setup"
   ]
  },
  {
   "cell_type": "code",
   "execution_count": 2,
   "metadata": {},
   "outputs": [],
   "source": [
    "model = 'llama3'\n",
    "\n",
    "def run_prompt(prompt, input_text):\n",
    "    response = ollama.chat(model='llama3', messages=[\n",
    "        {\n",
    "            'role': 'user',\n",
    "            'content': prompt + input_text,\n",
    "        },\n",
    "    ])\n",
    "    return response['message']['content']\n",
    "\n",
    "def run_llm(prompt):\n",
    "    responses = []\n",
    "    for i, row in df.iloc[:constants.ANNOTATED_ROWS].iterrows():\n",
    "        input_text = row['english']\n",
    "        response = run_prompt(prompt, input_text)\n",
    "        responses.append({'argument_id': row['id'],\n",
    "                          'input_text': input_text,\n",
    "                          'response': response})\n",
    "    responses = pd.DataFrame(responses)\n",
    "    return responses"
   ]
  },
  {
   "cell_type": "markdown",
   "metadata": {},
   "source": [
    "### 5-run + aggregation pipeline"
   ]
  },
  {
   "cell_type": "code",
   "execution_count": 3,
   "metadata": {},
   "outputs": [],
   "source": [
    "def five_run_pipeline(prompt):\n",
    "    run_1 = run_llm(prompt)\n",
    "    run_2 = run_llm(prompt)\n",
    "    run_3 = run_llm(prompt)\n",
    "    run_4 = run_llm(prompt)\n",
    "    run_5 = run_llm(prompt)\n",
    "\n",
    "    run_1_values = list(zip(run_1['argument_id'].tolist(), run_1['response'].apply(ast.literal_eval).tolist()))\n",
    "    run_2_values = list(zip(run_2['argument_id'].tolist(), run_2['response'].apply(ast.literal_eval).tolist()))\n",
    "    run_3_values = list(zip(run_3['argument_id'].tolist(), run_3['response'].apply(ast.literal_eval).tolist()))\n",
    "    run_4_values = list(zip(run_4['argument_id'].tolist(), run_4['response'].apply(ast.literal_eval).tolist()))\n",
    "    run_5_values = list(zip(run_5['argument_id'].tolist(), run_5['response'].apply(ast.literal_eval).tolist()))\n",
    "\n",
    "    arg_ids = run_1['argument_id'].tolist()\n",
    "    assert arg_ids == run_2['argument_id'].tolist() # Ensure the arg_ids are the same for all runs\n",
    "    assert arg_ids == run_3['argument_id'].tolist()\n",
    "    assert arg_ids == run_4['argument_id'].tolist()\n",
    "    assert arg_ids == run_5['argument_id'].tolist()\n",
    "\n",
    "    # create global dict of {arg_id: {value: count}}\n",
    "    total_dict = {}\n",
    "    for id in arg_ids:\n",
    "        value_counts = {}\n",
    "        for values in run_1_values + run_2_values + run_3_values + run_4_values + run_5_values:  # aggregate all values for this arg_id\n",
    "            if id == values[0]:                 # if the arg_id matches\n",
    "                for v in values[1]:             # iterate over sum of annotated values\n",
    "                    if v in value_counts:       # count the occurences of each value\n",
    "                        value_counts[v] += 1\n",
    "                    else:\n",
    "                        value_counts[v] = 1\n",
    "        total_dict[id] = value_counts\n",
    "\n",
    "    return total_dict"
   ]
  },
  {
   "cell_type": "markdown",
   "metadata": {},
   "source": [
    "### Chain of Thought"
   ]
  },
  {
   "cell_type": "code",
   "execution_count": 17,
   "metadata": {},
   "outputs": [],
   "source": [
    "def run_chain_of_thought(input_text, reasoning_prompt, prediction_prompt):\n",
    "    reasoning = run_prompt(reasoning_prompt, input_text)\n",
    "    prediction = run_prompt(prediction_prompt, reasoning)\n",
    "    return prediction\n",
    "\n",
    "def single_run_CoT(reasoning_prompt, prediction_prompt, run):\n",
    "    responses = []\n",
    "    for i, row in df.iloc[:constants.ANNOTATED_ROWS].iterrows():\n",
    "    # for i, row in df.iloc[:3].iterrows():   # for testing\n",
    "        print(f\"Run {run} argument {i+1}/{constants.ANNOTATED_ROWS}\")\n",
    "        input_text = row['english']\n",
    "        response = run_chain_of_thought(input_text, reasoning_prompt, prediction_prompt)\n",
    "        responses.append({'argument_id': row['id'],\n",
    "                          'input_text': input_text,\n",
    "                          'response': regex_extract_values(response)})\n",
    "    responses = pd.DataFrame(responses)\n",
    "    return responses\n",
    "\n",
    "# To deal with LLM returning other text\n",
    "def regex_extract_values(response):\n",
    "    regx = r\"\\[(.*?)\\]\"\n",
    "    x = re.search(regx, response)\n",
    "    if x:\n",
    "        return \"[\" + x.group(1) + \"]\"\n",
    "    else:\n",
    "        return \"['No value selected']\"\n",
    "\n",
    "def five_run_CoT(multi:bool = None):\n",
    "    if multi:\n",
    "        reasoning_prompt = prompts.CT_MV_REASONING\n",
    "        prediction_prompt = prompts.CT_MV_PREDICTION\n",
    "    else:\n",
    "        reasoning_prompt = prompts.CT_SV_REASONING\n",
    "        prediction_prompt = prompts.CT_SV_PREDICTION\n",
    "\n",
    "    # Repeat the CoT pipeline 5 times\n",
    "    run_1 = single_run_CoT(reasoning_prompt, prediction_prompt, 1)\n",
    "    run_2 = single_run_CoT(reasoning_prompt, prediction_prompt, 2)\n",
    "    run_3 = single_run_CoT(reasoning_prompt, prediction_prompt, 3)\n",
    "    run_4 = single_run_CoT(reasoning_prompt, prediction_prompt, 4)\n",
    "    run_5 = single_run_CoT(reasoning_prompt, prediction_prompt, 5)\n",
    "\n",
    "    pprint(run_1)\n",
    "    pprint(run_2)\n",
    "    pprint(run_3)\n",
    "    pprint(run_4)\n",
    "    pprint(run_5)\n",
    "\n",
    "    run_1_values = list(zip(run_1['argument_id'].tolist(), run_1['response'].apply(ast.literal_eval).tolist()))\n",
    "    run_2_values = list(zip(run_2['argument_id'].tolist(), run_2['response'].apply(ast.literal_eval).tolist()))\n",
    "    run_3_values = list(zip(run_3['argument_id'].tolist(), run_3['response'].apply(ast.literal_eval).tolist()))\n",
    "    run_4_values = list(zip(run_4['argument_id'].tolist(), run_4['response'].apply(ast.literal_eval).tolist()))\n",
    "    run_5_values = list(zip(run_5['argument_id'].tolist(), run_5['response'].apply(ast.literal_eval).tolist()))\n",
    "\n",
    "    arg_ids = run_1['argument_id'].tolist()\n",
    "    assert arg_ids == run_2['argument_id'].tolist() # Ensure the arg_ids are the same for all runs\n",
    "    assert arg_ids == run_3['argument_id'].tolist()\n",
    "    assert arg_ids == run_4['argument_id'].tolist()\n",
    "    assert arg_ids == run_5['argument_id'].tolist()\n",
    "\n",
    "    # create global dict of {arg_id: {value: count}}\n",
    "    total_dict = {}\n",
    "    for id in arg_ids:\n",
    "        value_counts = {}\n",
    "        for values in run_1_values + run_2_values + run_3_values + run_4_values + run_5_values:  # aggregate all values for this arg_id\n",
    "            if id == values[0]:                 # if the arg_id matches\n",
    "                for v in values[1]:             # iterate over sum of annotated values\n",
    "                    if v in value_counts:       # count the occurences of each value\n",
    "                        value_counts[v] += 1\n",
    "                    else:\n",
    "                        value_counts[v] = 1\n",
    "        total_dict[id] = value_counts\n",
    "\n",
    "    return total_dict"
   ]
  },
  {
   "cell_type": "markdown",
   "metadata": {},
   "source": [
    "### Majority labels"
   ]
  },
  {
   "cell_type": "code",
   "execution_count": 5,
   "metadata": {},
   "outputs": [],
   "source": [
    "def get_single_majority_labels(total_dict, threshold=None):\n",
    "    \"\"\"Get the majority labels for each argument id in the total_dict.\"\"\"\n",
    "    majority_labels = {}\n",
    "    if threshold:\n",
    "        for id, value_counts in total_dict.items():\n",
    "            majority = max(value_counts.items(), key=lambda x: x[1])\n",
    "            # print(f\"{id}: \", majority[0], str(majority[1]))\n",
    "            if majority[1] >= threshold:\n",
    "                majority_labels[id] = majority[0]\n",
    "            else:\n",
    "                majority_labels[id] = 'None'\n",
    "    else:\n",
    "        for id, value_counts in total_dict.items():\n",
    "            majority_labels[id] = max(value_counts, key=value_counts.get)\n",
    "    return majority_labels\n",
    "\n",
    "def get_multi_majority_labels(total_dict, threshold=None):\n",
    "    \"\"\"Get the majority labels for the multi-value LLM responses\"\"\"\n",
    "    majority_labels = {}\n",
    "    if threshold:   # Take all values above threshold\n",
    "        for id, value_counts in total_dict.items():\n",
    "            majority_labels[id] = [k for k, v in value_counts.items() if v >= threshold]\n",
    "    else:           # Take all values\n",
    "        for id, value_counts in total_dict.items():\n",
    "            majority_labels[id] = list(value_counts.keys())\n",
    "    return majority_labels"
   ]
  },
  {
   "cell_type": "markdown",
   "metadata": {},
   "source": [
    "### Fleiss Kappa"
   ]
  },
  {
   "cell_type": "code",
   "execution_count": 6,
   "metadata": {},
   "outputs": [],
   "source": [
    "def fleiss_kappa(total_dict):\n",
    "    arg_ids = total_dict.keys()\n",
    "    imagined_values = []\n",
    "\n",
    "    # Creating a 2D array of annotations\n",
    "    merged = pd.DataFrame(columns=[['argument_id'] + constants.VALUES])\n",
    "    for id in arg_ids:\n",
    "        merged.loc[id] = [id] + [0] * len(constants.VALUES)\n",
    "        for v in total_dict[id].keys():\n",
    "            if v in constants.VALUES:\n",
    "                merged.loc[id, v] = total_dict[id][v]\n",
    "            else:\n",
    "                imagined_values.append(v)\n",
    "\n",
    "    # Compute score\n",
    "    fk = irr.fleiss_kappa(irr.aggregate_raters(merged[constants.VALUES])[0], method='fleiss')\n",
    "\n",
    "    return fk"
   ]
  },
  {
   "cell_type": "code",
   "execution_count": 7,
   "metadata": {},
   "outputs": [],
   "source": [
    "#!!! IMPORTANT: This function currently does not match the proper value label to the confusion matrix.\n",
    "#    It just takes the .. first labels from the constants.VALUES list.\n",
    "#    Thus, the labels do not match the matrices\n",
    "\n",
    "def get_confusion_matrix(y_true, y_pred, labels):\n",
    "    # Compute the multilabel confusion matrix\n",
    "    mcm = multilabel_confusion_matrix(y_true, y_pred)\n",
    "\n",
    "    # Calculate the number of rows needed for the subplots\n",
    "    n_labels = mcm.shape[0]\n",
    "    n_cols = 5\n",
    "    n_rows = int(np.ceil(n_labels / n_cols))\n",
    "\n",
    "    # Create a figure and a set of subplots\n",
    "    fig, ax = plt.subplots(nrows=n_rows, ncols=n_cols, figsize=(20, 20))\n",
    "\n",
    "    # For each label, plot the confusion matrix\n",
    "    for axes, cm, label in zip(ax.flatten(), mcm, labels):\n",
    "        # im = axes.matshow(cm, cmap='viridis')  # Standard colorization\n",
    "        im = axes.matshow(cm, cmap=plt.cm.Blues)   # Plot the confusion matrix\n",
    "        fig.colorbar(im, ax=axes)  # Add a colorbar\n",
    "        axes.set(title=label)  # Set the title to the label name\n",
    "\n",
    "        axes.set_xlabel('Predicted')\n",
    "        axes.set_ylabel('Actual')\n",
    "        axes.set_xticklabels(['', 'P', 'N'])\n",
    "        axes.set_yticklabels(['', 'P', 'N'])\n",
    "\n",
    "        # Add the values of the confusion matrix to the squares\n",
    "        for (i, j), z in np.ndenumerate(cm):\n",
    "            axes.text(j, i, '{:0.1f}'.format(z), ha='center', va='center',\n",
    "                    bbox=dict(boxstyle='round', facecolor='white', edgecolor='0.3'))\n",
    "\n",
    "    # If there are fewer labels than subplots, remove the extra subplots\n",
    "    if n_labels < n_rows * n_cols:\n",
    "        for axes in ax.flatten()[n_labels:]:\n",
    "            fig.delaxes(axes)\n",
    "\n",
    "    plt.tight_layout()  # Ensure the subplots do not overlap\n",
    "    plt.show()  # Display the figure"
   ]
  },
  {
   "cell_type": "markdown",
   "metadata": {},
   "source": [
    "### Get scores"
   ]
  },
  {
   "cell_type": "code",
   "execution_count": 8,
   "metadata": {},
   "outputs": [],
   "source": [
    "def get_scores(total_dict, method, threshold: int = None, confusion_matrix: bool = None):\n",
    "    # SINGLE value predictions\n",
    "    if \"sv\" in method:\n",
    "        if threshold:   # Compare to threshold ground truth labels\n",
    "            y_pred = get_single_majority_labels(total_dict, threshold).values()\n",
    "            y_true = constants.FRYSIAN_MAJORITY_LABELS_T3.values()\n",
    "        else:\n",
    "            y_pred = get_single_majority_labels(total_dict).values()\n",
    "            y_true = constants.FRYSIAN_MAJORITY_LABELS.values()\n",
    "\n",
    "    # MULTI value predictions\n",
    "    if \"mv\" in method:\n",
    "        if threshold:\n",
    "            y_pred = get_multi_majority_labels(total_dict, threshold).values()\n",
    "            y_true = get_multi_majority_labels(constants.ANNOTATIONS, threshold).values()\n",
    "        else:\n",
    "            y_pred = get_multi_majority_labels(total_dict).values()\n",
    "            y_true = get_multi_majority_labels(constants.ANNOTATIONS).values()\n",
    "\n",
    "    mlb = MultiLabelBinarizer()\n",
    "    y_true = mlb.fit_transform(y_true)\n",
    "    y_pred = mlb.transform(y_pred)\n",
    "\n",
    "    decimal_places = 3\n",
    "\n",
    "    t = PrettyTable(['Metric', 'Weighted', 'Micro'])\n",
    "    t.add_row(['Precision',\n",
    "                round(precision_score(y_true, y_pred, average='weighted'), decimal_places),\n",
    "                round(precision_score(y_true, y_pred, average='micro'), decimal_places)])\n",
    "    t.add_row(['Recall',\n",
    "                round(recall_score(y_true, y_pred, average='weighted'), decimal_places),\n",
    "                round(recall_score(y_true, y_pred, average='micro'), decimal_places)])\n",
    "    t.add_row(['F1',\n",
    "                round(f1_score(y_true, y_pred, average='weighted'), decimal_places),\n",
    "                round(f1_score(y_true, y_pred, average='micro'), decimal_places)])\n",
    "    print(t, '\\n')\n",
    "\n",
    "    # Confusion matrix\n",
    "    if confusion_matrix:\n",
    "        get_confusion_matrix(y_true, y_pred, labels=y_true)\n",
    "\n",
    "    # return f1_score(y_true, y_pred, average=None)"
   ]
  },
  {
   "cell_type": "code",
   "execution_count": 9,
   "metadata": {},
   "outputs": [],
   "source": [
    "# For the runs per annotator\n",
    "def get_annotator_scores(responses, annotator, print_scores: bool = False):\n",
    "    y_true = []\n",
    "    y_pred = []\n",
    "\n",
    "    for id in responses.keys():\n",
    "        y_true.append(constants.ANNOTATIONS_PER_ANNOTATOR[str(id)]['annotator_1'])\n",
    "        y_pred.append(responses[id])\n",
    "\n",
    "    mlb = MultiLabelBinarizer()\n",
    "    y_true = mlb.fit_transform(y_true)\n",
    "    y_pred = mlb.transform(y_pred)\n",
    "\n",
    "    decimal_places = 3\n",
    "\n",
    "    precision = round(precision_score(y_true, y_pred, average='weighted'), decimal_places)\n",
    "    recall = round(recall_score(y_true, y_pred, average='weighted'), decimal_places)\n",
    "    f1 = round(f1_score(y_true, y_pred, average='weighted'), decimal_places)\n",
    "\n",
    "    if print_scores:\n",
    "        print(f\"Scores for {annotator}:\")\n",
    "\n",
    "        t = PrettyTable(['Metric', 'Weighted', 'Micro'])\n",
    "        t.add_row(['Precision',\n",
    "                    precision,\n",
    "                    round(precision_score(y_true, y_pred, average='micro'), decimal_places)])\n",
    "        t.add_row(['Recall',\n",
    "                    recall,\n",
    "                    round(recall_score(y_true, y_pred, average='micro'), decimal_places)])\n",
    "        t.add_row(['F1',\n",
    "                    f1,\n",
    "                    round(f1_score(y_true, y_pred, average='micro'), decimal_places)])\n",
    "\n",
    "    return (precision, recall, f1)"
   ]
  },
  {
   "cell_type": "markdown",
   "metadata": {},
   "source": [
    "### Capturing subjectivity per annotator "
   ]
  },
  {
   "cell_type": "code",
   "execution_count": 10,
   "metadata": {},
   "outputs": [],
   "source": [
    "def per_annotator(annotator: str, training: int, test: int, print_scores: bool = False):\n",
    "    # For 30 data points, show what each annotator has annotated\n",
    "    messages = []\n",
    "\n",
    "    messages.append({\n",
    "        'role': 'system',\n",
    "        'content': \"\"\"\n",
    "            Your task will be to identify the underlying values for a given piece of text and a list of possible values, as a human would do it.\n",
    "            First I will give some examples of what a human has annotated, and after that I will ask you to predict what that human would have annotated for a new piece of text.\n",
    "        \"\"\",\n",
    "    })\n",
    "\n",
    "    ##### Provide examples\n",
    "    for i in range(training):\n",
    "        arg = df.iloc[i]\n",
    "        # pprint(f\"{annotator} {arg['id']}: {constants.ANNOTATIONS_PER_ANNOTATOR[str(arg['id'])][annotator]}\")\n",
    "        messages.append({   # Argument statement\n",
    "            'role': 'user',\n",
    "            'content': f\"\"\"\n",
    "                What are the underlying human values for this argument statement?\n",
    "                \"{arg['english']}\"\n",
    "            \"\"\",\n",
    "        })\n",
    "        messages.append({   # Annotator's given values for that argument\n",
    "            'role': 'assistant',\n",
    "            'content': f\"\"\"\n",
    "                {constants.ANNOTATIONS_PER_ANNOTATOR[str(arg['id'])][annotator]}\n",
    "            \"\"\"\n",
    "        })\n",
    "\n",
    "    responses = {}\n",
    "\n",
    "    # For 20 data points, ask for prediction per annotator\n",
    "    for i in range(training, training + test):\n",
    "        arg = df.iloc[i]\n",
    "        messages.append({\n",
    "            'role': 'system',\n",
    "            'content': f\"\"\"\n",
    "                Now that you have seen how this human annotates values, I will ask you to predict what this human would have annotated for a new piece of text.\n",
    "                - The answers must be any of these possible values that you think apply, using their exact wording from this list: {constants.VALUES}.\n",
    "                - If none of the values match, you may respond with 'None'.\n",
    "                - The responses must be given in the format of a Python list, e.g., [\"be ...\", \"have ...\"], or [\"None\"] if no values apply.\n",
    "                - Do not provide any explanation, additional text, or any values not present in the list.\n",
    "            \"\"\",\n",
    "        })\n",
    "        messages.append({\n",
    "            'role': 'user',\n",
    "            'content': f\"\"\"\n",
    "                What are the underlying human values for this argument statement?\n",
    "                \"{arg['english']}\"\n",
    "            \"\"\",\n",
    "        })\n",
    "\n",
    "        ##### Run it\n",
    "        response = ollama.chat(model='llama3', messages=messages)\n",
    "        response_content = response['message']['content']\n",
    "\n",
    "        # Convert string representation of list to list\n",
    "        response_list = ast.literal_eval(response_content)\n",
    "        responses.update({arg['id']: response_list})\n",
    "        # print(f\"{arg['id']}: {response_list}\")\n",
    "\n",
    "        # Clear the messages for the next prediction\n",
    "        messages = []\n",
    "\n",
    "\n",
    "    # Compare to human annotation\n",
    "    scores = get_annotator_scores(responses, annotator, print_scores)\n",
    "\n",
    "    return [responses, scores]"
   ]
  },
  {
   "cell_type": "code",
   "execution_count": null,
   "metadata": {},
   "outputs": [],
   "source": [
    "def five_run_annotator(annotator):\n",
    "    scores = []\n",
    "    for i in range(5):\n",
    "        ann = per_annotator(annotator, 30, 20, print_scores=False)\n",
    "        print(f\"{annotator} run {i}: {ann[1]}\")\n",
    "        scores.append(ann[1])\n",
    "\n",
    "    pr_total = 0\n",
    "    re_total = 0\n",
    "    f1_total = 0\n",
    "    for i, score in enumerate(scores):\n",
    "        pr_total += score[0]\n",
    "        re_total += score[1]\n",
    "        f1_total += score[2]\n",
    "\n",
    "    pr_avg = round(pr_total / len(scores), 3)\n",
    "    re_avg = round(re_total / len(scores), 3)\n",
    "    f1_avg = round(f1_total / len(scores), 3)\n",
    "\n",
    "    print(f\"Average scores for {annotator}:\")\n",
    "    print(f\"Precision: {pr_avg}\")\n",
    "    print(f\"Recall: {re_avg}\")\n",
    "    print(f\"F1: {f1_avg}\")"
   ]
  },
  {
   "cell_type": "markdown",
   "metadata": {},
   "source": [
    "## Running for each prompting method\n",
    "- Zero shot, single value\n",
    "- Zero shot, multiple value\n",
    "- Few shot, single value\n",
    "- Few shot, multiple value\n",
    "- Chain of thought, single value\n",
    "- Chain of thought, multiple value"
   ]
  },
  {
   "cell_type": "code",
   "execution_count": 11,
   "metadata": {},
   "outputs": [],
   "source": [
    "# Zero-shot, single value\n",
    "# zs_sv = five_run_pipeline(prompts.ZS_SV)"
   ]
  },
  {
   "cell_type": "code",
   "execution_count": 12,
   "metadata": {},
   "outputs": [],
   "source": [
    "# Zero shot, multiple value\n",
    "# zs_mv = five_run_pipeline(prompts.ZS_MV)"
   ]
  },
  {
   "cell_type": "code",
   "execution_count": 13,
   "metadata": {},
   "outputs": [],
   "source": [
    "# Few shot, single value\n",
    "# fs_sv = five_run_pipeline(prompts.FS_SV)"
   ]
  },
  {
   "cell_type": "code",
   "execution_count": 14,
   "metadata": {},
   "outputs": [],
   "source": [
    "# Few shot, multiple value\n",
    "# fs_mv = five_run_pipeline(prompts.FS_MV)"
   ]
  },
  {
   "cell_type": "code",
   "execution_count": 1,
   "metadata": {},
   "outputs": [],
   "source": [
    "# Chain of thought, single value  ------ Takes 50 mins to run\n",
    "# CT_SV = five_run_CoT()"
   ]
  },
  {
   "cell_type": "markdown",
   "metadata": {},
   "source": [
    "### Fleiss kappa "
   ]
  },
  {
   "cell_type": "code",
   "execution_count": null,
   "metadata": {},
   "outputs": [
    {
     "name": "stdout",
     "output_type": "stream",
     "text": [
      "Zero-shot Single:  -0.00037050759530815597\n",
      "Zero-shot Multi:  0.003658982781930174\n",
      "Few-shot Single:  -0.004301373195649773\n",
      "Few-shot Multi:  0.004795694979931359\n",
      "Chain of Thought Single:  -0.0064323467985471765\n"
     ]
    }
   ],
   "source": [
    "print(\"Zero-shot Single: \", fleiss_kappa(constants.ZS_SV))\n",
    "print(\"Zero-shot Multi: \", fleiss_kappa(constants.ZS_MV))\n",
    "print(\"Few-shot Single: \", fleiss_kappa(constants.FS_SV))\n",
    "print(\"Few-shot Multi: \", fleiss_kappa(constants.FS_MV))\n",
    "print(\"Chain of Thought Single: \", fleiss_kappa(constants.CT_SV))"
   ]
  },
  {
   "cell_type": "code",
   "execution_count": null,
   "metadata": {},
   "outputs": [
    {
     "data": {
      "image/png": "[encoded data removed]",
      "text/plain": [
       "<Figure size 800x400 with 1 Axes>"
      ]
     },
     "metadata": {},
     "output_type": "display_data"
    }
   ],
   "source": [
    "fig = plt.figure(figsize=(8, 4))\n",
    "plt.bar(['Zero-shot \\nSingle value', 'Zero-shot \\nMulti value', 'Few-shot \\nSingle value', 'Few-shot \\nMulti value', 'Chain-of-thought\\nSingle value', \"Human \\nannotators\"],\n",
    "        [fleiss_kappa(constants.ZS_SV), fleiss_kappa(constants.ZS_MV), fleiss_kappa(constants.FS_SV), fleiss_kappa(constants.FS_MV), fleiss_kappa(constants.CT_SV), constants.FLEISS_KAPPA_50],\n",
    "        color=['tab:red', 'tab:blue', 'tab:red', 'tab:blue', 'tab:red', 'tab:gray'])\n",
    "plt.xticks(rotation=45)\n",
    "plt.ylim(-0.007, 0.015)\n",
    "plt.axhline(0, color='black', linewidth=.5)\n",
    "plt.xlabel('Method')\n",
    "plt.ylabel('Fleiss Kappa')\n",
    "plt.title('Fleiss Kappa scores for different methods')\n",
    "plt.show()"
   ]
  },
  {
   "cell_type": "markdown",
   "metadata": {},
   "source": [
    "### Calculating scores"
   ]
  },
  {
   "cell_type": "code",
   "execution_count": null,
   "metadata": {},
   "outputs": [
    {
     "name": "stdout",
     "output_type": "stream",
     "text": [
      "Chain of thought single: \n",
      "\n",
      "+-----------+----------+-------+\n",
      "|   Metric  | Weighted | Micro |\n",
      "+-----------+----------+-------+\n",
      "| Precision |   0.62   | 0.596 |\n",
      "|   Recall  |  0.603   | 0.603 |\n",
      "|     F1    |  0.594   |  0.6  |\n",
      "+-----------+----------+-------+ \n",
      "\n",
      "Chain of thought single T=3: \n",
      "\n",
      "+-----------+----------+-------+\n",
      "|   Metric  | Weighted | Micro |\n",
      "+-----------+----------+-------+\n",
      "| Precision |   0.58   |  0.58 |\n",
      "|   Recall  |  0.495   | 0.495 |\n",
      "|     F1    |  0.522   | 0.534 |\n",
      "+-----------+----------+-------+ \n",
      "\n"
     ]
    }
   ],
   "source": [
    "warnings.simplefilter('ignore')\n",
    "\n",
    "def run_scores():\n",
    "    ## Zero shot\n",
    "    # print(\"zero-shot single:\", \"\\n\")\n",
    "    # print(\"Fleiss kappa: \", fleiss_kappa(zs_sv), \"\\n\")\n",
    "    # get_scores(constants.ZS_SV, \"zs_sv\")\n",
    "\n",
    "    # print(\"zero-shot single T=3\", \"\\n\")\n",
    "    # get_scores(constants.ZS_SV, \"zs_sv\", 3)\n",
    "\n",
    "    # print(\"zero-shot multi:\", \"\\n\")\n",
    "    # print(\"Fleiss kappa: \", fleiss_kappa(zs_mv), \"\\n\")\n",
    "    # get_scores(constants.ZS_MV, \"zs_mv\")\n",
    "\n",
    "    # print(\"zero-shot multi T=3:\", \"\\n\")\n",
    "    # get_scores(constants.ZS_MV, \"zs_mv\", 3)\n",
    "\n",
    "    # ## Few shot\n",
    "    # print(\"few-shot single:\", \"\\n\")\n",
    "    # print(\"Fleiss kappa: \", fleiss_kappa(fs_sv), \"\\n\")\n",
    "    # get_scores(constants.FS_SV, \"fs_sv\")\n",
    "\n",
    "    # print(\"few-shot single T=3\", \"\\n\")\n",
    "    # get_scores(constants.FS_SV, \"fs_sv\", 3)\n",
    "\n",
    "    # print(\"few-shot multi:\", \"\\n\")\n",
    "    # print(\"Fleiss kappa: \", fleiss_kappa(fs_mv), \"\\n\")\n",
    "    # get_scores(constants.FS_MV, \"fs_mv\")\n",
    "\n",
    "    # print(\"few-shot multi T=3:\", \"\\n\")\n",
    "    # get_scores(constants.FS_MV, \"fs_mv\", 3)\n",
    "\n",
    "    ## Chain of Thought\n",
    "    # print(\"Chain of thought single:\", \"\\n\")\n",
    "    # get_scores(constants.CT_SV, \"sv\")\n",
    "\n",
    "    # print(\"Chain of thought single T=3:\", \"\\n\")\n",
    "    # get_scores(constants.CT_SV, \"sv\", 3)\n",
    "\n",
    "# Uncomment to print the scores\n",
    "run_scores()"
   ]
  },
  {
   "cell_type": "markdown",
   "metadata": {},
   "source": [
    "## Prediction per annotator"
   ]
  },
  {
   "cell_type": "code",
   "execution_count": null,
   "metadata": {},
   "outputs": [],
   "source": [
    "# ann_1 = per_annotator('annotator_1', 30, 20, print_scores=False)\n",
    "# annotator_1_res = ann_1[0]\n",
    "# print(f\"Annotator 1 scores: {ann_1[1]}\")"
   ]
  },
  {
   "cell_type": "code",
   "execution_count": null,
   "metadata": {},
   "outputs": [],
   "source": [
    "# ann_2 = per_annotator('annotator_2', 30, 20, print_scores=False)\n",
    "# annotator_2_res = ann_2[0]\n",
    "# print(f\"Annotator 2 scores: {ann_2[1]}\")"
   ]
  },
  {
   "cell_type": "code",
   "execution_count": null,
   "metadata": {},
   "outputs": [],
   "source": [
    "# ann_3 = per_annotator('annotator_3', 30, 20, print_scores=False)\n",
    "# annotator_3_res = ann_3[0]\n",
    "# print(f\"Annotator 3 scores: {ann_3[1]}\")"
   ]
  },
  {
   "cell_type": "code",
   "execution_count": null,
   "metadata": {},
   "outputs": [],
   "source": [
    "# ann_4 = per_annotator('annotator_4', 30, 20, print_scores=False)\n",
    "# annotator_4_res = ann_4[0]\n",
    "# print(f\"Annotator 4 scores: {ann_4[1]}\")"
   ]
  },
  {
   "cell_type": "code",
   "execution_count": null,
   "metadata": {},
   "outputs": [],
   "source": [
    "# ann_5 = per_annotator('annotator_5', 30, 20, print_scores=False)\n",
    "# annotator_5_res = ann_5[0]\n",
    "# print(f\"Annotator 5 scores: {ann_5[1]}\")"
   ]
  },
  {
   "cell_type": "code",
   "execution_count": null,
   "metadata": {},
   "outputs": [
    {
     "data": {
      "image/png": "[encoded data removed]",
      "text/plain": [
       "<Figure size 1000x500 with 1 Axes>"
      ]
     },
     "metadata": {},
     "output_type": "display_data"
    }
   ],
   "source": [
    "fig = plt.figure(figsize=(10, 5))\n",
    "\n",
    "# Define the labels and data\n",
    "labels = ['Annotator 1', 'Annotator 2', 'Annotator 3', 'Annotator 4', 'Annotator 5']\n",
    "# labels = ['Annotator 1\\nJoosje', 'Annotator 2\\nBente', 'Annotator 3\\nTimur', 'Annotator 4\\nAna', 'Annotator 5\\nAdina']\n",
    "data = [(0.36, 0.184, 0.243), (0.409, 0.184, 0.254), (0.286, 0.163, 0.203), (0.417, 0.204, 0.274), (0.375, 0.184, 0.247)]\n",
    "# data = [ann_1[1], ann_2[1], ann_3[1], ann_4[1], ann_5[1]]\n",
    "\n",
    "# Calculate the width of each bar and the positions of the bars\n",
    "num_bars = len(data[0])\n",
    "bar_width = 0.2\n",
    "x = np.arange(len(labels))\n",
    "\n",
    "# Plot each group of bars\n",
    "for i in range(num_bars):\n",
    "    heights = [group[i] for group in data]\n",
    "    plt.bar(x + i*bar_width, heights, width=bar_width, zorder=3)\n",
    "\n",
    "# Set the x-ticks to be the center of each group of bars\n",
    "plt.xticks(x + bar_width*(num_bars-1)/2, labels)\n",
    "plt.xticks(rotation=45)\n",
    "\n",
    "plt.ylim(0, 0.5)\n",
    "plt.ylabel(\"Scores\")\n",
    "plt.title(\"Scores per annotator (5 run aggregation)\")\n",
    "\n",
    "# Manually set legend\n",
    "blue_patch = mpatches.Patch(color='tab:blue', label='Precision')\n",
    "orange_patch = mpatches.Patch(color='tab:orange', label='Recall')\n",
    "green_patch = mpatches.Patch(color='tab:green', label='F1')\n",
    "plt.legend(handles=[blue_patch, orange_patch, green_patch])\n",
    "\n",
    "plt.grid(axis='y', linewidth=0.5, zorder=0)\n",
    "\n",
    "plt.show()"
   ]
  }
 ],
 "metadata": {
  "kernelspec": {
   "display_name": "Python 3",
   "language": "python",
   "name": "python3"
  },
  "language_info": {
   "codemirror_mode": {
    "name": "ipython",
    "version": 3
   },
   "file_extension": ".py",
   "mimetype": "text/x-python",
   "name": "python",
   "nbconvert_exporter": "python",
   "pygments_lexer": "ipython3",
   "version": "3.12.0"
  }
 },
 "nbformat": 4,
 "nbformat_minor": 2
}
